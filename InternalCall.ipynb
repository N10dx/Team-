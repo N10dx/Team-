{
 "cells": [
  {
   "cell_type": "markdown",
   "id": "0b680387-e9e0-4109-9921-8c66bb12485f",
   "metadata": {},
   "source": [
    "### 1. Import the necessary libraries"
   ]
  },
  {
   "cell_type": "code",
   "execution_count": 1,
   "id": "5ef97a12-8317-4561-91a9-50bdc5f0276d",
   "metadata": {},
   "outputs": [],
   "source": [
    "# do not show warnings\n",
    "import warnings\n",
    "warnings.filterwarnings(\"ignore\")"
   ]
  },
  {
   "cell_type": "code",
   "execution_count": 2,
   "id": "ccb4857d-0998-4feb-ab5b-bd6d3b3d549b",
   "metadata": {},
   "outputs": [],
   "source": [
    "import pandas as pd\n",
    "import matplotlib.pyplot as plt \n",
    "import numpy as np\n",
    "import seaborn as sns\n",
    "from datetime import datetime"
   ]
  },
  {
   "cell_type": "markdown",
   "id": "6647f66d-6d3a-4205-b50a-b9a1239ccd28",
   "metadata": {},
   "source": [
    "### 2. Data cleaning "
   ]
  },
  {
   "cell_type": "markdown",
   "id": "151f8464-e0ef-484a-b52e-55cf872c16fa",
   "metadata": {},
   "source": [
    "This chapter contains the following:\n",
    "- Missing value handling\n",
    "- Inconsistent data handling\n",
    "- Rename columns and values and drop unnecessary columns\n",
    "- Duplicate data handling\n",
    "- Outlier handling"
   ]
  },
  {
   "cell_type": "code",
   "execution_count": 3,
   "id": "d2fda41c-8f22-4763-bcb4-5508c11173ef",
   "metadata": {},
   "outputs": [],
   "source": [
    "file = pd.read_csv('InternalCallList(1).csv')"
   ]
  },
  {
   "cell_type": "code",
   "execution_count": 4,
   "id": "79597ecd-c0a5-4955-ad0e-bd75e41c7efc",
   "metadata": {},
   "outputs": [
    {
     "data": {
      "text/html": [
       "<div>\n",
       "<style scoped>\n",
       "    .dataframe tbody tr th:only-of-type {\n",
       "        vertical-align: middle;\n",
       "    }\n",
       "\n",
       "    .dataframe tbody tr th {\n",
       "        vertical-align: top;\n",
       "    }\n",
       "\n",
       "    .dataframe thead th {\n",
       "        text-align: right;\n",
       "    }\n",
       "</style>\n",
       "<table border=\"1\" class=\"dataframe\">\n",
       "  <thead>\n",
       "    <tr style=\"text-align: right;\">\n",
       "      <th></th>\n",
       "      <th>Nr.</th>\n",
       "      <th>Day</th>\n",
       "      <th>Date</th>\n",
       "      <th>Duration</th>\n",
       "      <th>Extension1</th>\n",
       "      <th>Ext.1 Name</th>\n",
       "      <th>Ext.1 Dep.</th>\n",
       "      <th>Extension2</th>\n",
       "      <th>Ext.2 Name</th>\n",
       "      <th>Ext.2 Dep.</th>\n",
       "      <th>Type</th>\n",
       "      <th>Status</th>\n",
       "      <th>Ring Time</th>\n",
       "    </tr>\n",
       "  </thead>\n",
       "  <tbody>\n",
       "    <tr>\n",
       "      <th>0</th>\n",
       "      <td>1</td>\n",
       "      <td>Tue</td>\n",
       "      <td>3/14/2023 18:30</td>\n",
       "      <td>0:00:00</td>\n",
       "      <td>412</td>\n",
       "      <td>NaN</td>\n",
       "      <td>NaN</td>\n",
       "      <td>755</td>\n",
       "      <td>NaN</td>\n",
       "      <td>NaN</td>\n",
       "      <td>Inc.</td>\n",
       "      <td>Unansw.</td>\n",
       "      <td>0 sec.</td>\n",
       "    </tr>\n",
       "    <tr>\n",
       "      <th>1</th>\n",
       "      <td>2</td>\n",
       "      <td>Tue</td>\n",
       "      <td>3/14/2023 18:30</td>\n",
       "      <td>0:00:00</td>\n",
       "      <td>755</td>\n",
       "      <td>NaN</td>\n",
       "      <td>NaN</td>\n",
       "      <td>412</td>\n",
       "      <td>NaN</td>\n",
       "      <td>NaN</td>\n",
       "      <td>Out</td>\n",
       "      <td>Unansw.</td>\n",
       "      <td>0 sec.</td>\n",
       "    </tr>\n",
       "    <tr>\n",
       "      <th>2</th>\n",
       "      <td>3</td>\n",
       "      <td>Tue</td>\n",
       "      <td>3/14/2023 16:56</td>\n",
       "      <td>0:01:19</td>\n",
       "      <td>122</td>\n",
       "      <td>Alangari Mohammed</td>\n",
       "      <td>CyberSecurity Department</td>\n",
       "      <td>430</td>\n",
       "      <td>Aldawsari Mohammed</td>\n",
       "      <td>Information Technology</td>\n",
       "      <td>Inc.</td>\n",
       "      <td>Answ.</td>\n",
       "      <td>5 sec.</td>\n",
       "    </tr>\n",
       "    <tr>\n",
       "      <th>3</th>\n",
       "      <td>4</td>\n",
       "      <td>Tue</td>\n",
       "      <td>3/14/2023 16:56</td>\n",
       "      <td>0:01:19</td>\n",
       "      <td>430</td>\n",
       "      <td>Aldawsari Mohammed</td>\n",
       "      <td>Information Technology</td>\n",
       "      <td>122</td>\n",
       "      <td>Alangari Mohammed</td>\n",
       "      <td>CyberSecurity Department</td>\n",
       "      <td>Out</td>\n",
       "      <td>Answ.</td>\n",
       "      <td>5 sec.</td>\n",
       "    </tr>\n",
       "    <tr>\n",
       "      <th>4</th>\n",
       "      <td>5</td>\n",
       "      <td>Tue</td>\n",
       "      <td>3/14/2023 16:50</td>\n",
       "      <td>0:00:00</td>\n",
       "      <td>310</td>\n",
       "      <td>ali faiqah</td>\n",
       "      <td>Electro-Optics Systems Lab</td>\n",
       "      <td>105</td>\n",
       "      <td>shah syed</td>\n",
       "      <td>Strategic Planning / VRO</td>\n",
       "      <td>Inc.</td>\n",
       "      <td>Unansw.</td>\n",
       "      <td>20 sec.</td>\n",
       "    </tr>\n",
       "    <tr>\n",
       "      <th>...</th>\n",
       "      <td>...</td>\n",
       "      <td>...</td>\n",
       "      <td>...</td>\n",
       "      <td>...</td>\n",
       "      <td>...</td>\n",
       "      <td>...</td>\n",
       "      <td>...</td>\n",
       "      <td>...</td>\n",
       "      <td>...</td>\n",
       "      <td>...</td>\n",
       "      <td>...</td>\n",
       "      <td>...</td>\n",
       "      <td>...</td>\n",
       "    </tr>\n",
       "    <tr>\n",
       "      <th>9995</th>\n",
       "      <td>9996</td>\n",
       "      <td>Sun</td>\n",
       "      <td>2/26/2023 11:21</td>\n",
       "      <td>0:00:00</td>\n",
       "      <td>118</td>\n",
       "      <td>Alwail Fahad</td>\n",
       "      <td>Documents and Archiving Center</td>\n",
       "      <td>400</td>\n",
       "      <td>Alyahya Ibrahim</td>\n",
       "      <td>FSS Management</td>\n",
       "      <td>Out</td>\n",
       "      <td>Unansw.</td>\n",
       "      <td>30 sec.</td>\n",
       "    </tr>\n",
       "    <tr>\n",
       "      <th>9996</th>\n",
       "      <td>9997</td>\n",
       "      <td>Sun</td>\n",
       "      <td>2/26/2023 11:20</td>\n",
       "      <td>0:00:31</td>\n",
       "      <td>428</td>\n",
       "      <td>Bin Sulaytin Abdullah</td>\n",
       "      <td>Information Technology</td>\n",
       "      <td>415</td>\n",
       "      <td>alkhunayfir meshari</td>\n",
       "      <td>Information Technology</td>\n",
       "      <td>Inc.</td>\n",
       "      <td>Answ.</td>\n",
       "      <td>4 sec.</td>\n",
       "    </tr>\n",
       "    <tr>\n",
       "      <th>9997</th>\n",
       "      <td>9998</td>\n",
       "      <td>Sun</td>\n",
       "      <td>2/26/2023 11:20</td>\n",
       "      <td>0:00:31</td>\n",
       "      <td>415</td>\n",
       "      <td>alkhunayfir meshari</td>\n",
       "      <td>Information Technology</td>\n",
       "      <td>428</td>\n",
       "      <td>Bin Sulaytin Abdullah</td>\n",
       "      <td>Information Technology</td>\n",
       "      <td>Out</td>\n",
       "      <td>Answ.</td>\n",
       "      <td>4 sec.</td>\n",
       "    </tr>\n",
       "    <tr>\n",
       "      <th>9998</th>\n",
       "      <td>9999</td>\n",
       "      <td>Sun</td>\n",
       "      <td>2/26/2023 11:17</td>\n",
       "      <td>0:01:10</td>\n",
       "      <td>407</td>\n",
       "      <td>binsheewen abdulaziz</td>\n",
       "      <td>Facilities Management Department</td>\n",
       "      <td>408</td>\n",
       "      <td>Alquraishi Musaad</td>\n",
       "      <td>Financial Accounting</td>\n",
       "      <td>Inc.</td>\n",
       "      <td>Answ.</td>\n",
       "      <td>16 sec.</td>\n",
       "    </tr>\n",
       "    <tr>\n",
       "      <th>9999</th>\n",
       "      <td>10000</td>\n",
       "      <td>Sun</td>\n",
       "      <td>2/26/2023 11:17</td>\n",
       "      <td>0:01:10</td>\n",
       "      <td>408</td>\n",
       "      <td>Alquraishi Musaad</td>\n",
       "      <td>Financial Accounting</td>\n",
       "      <td>407</td>\n",
       "      <td>binsheewen abdulaziz</td>\n",
       "      <td>Facilities Management Department</td>\n",
       "      <td>Out</td>\n",
       "      <td>Answ.</td>\n",
       "      <td>16 sec.</td>\n",
       "    </tr>\n",
       "  </tbody>\n",
       "</table>\n",
       "<p>10000 rows × 13 columns</p>\n",
       "</div>"
      ],
      "text/plain": [
       "        Nr.  Day             Date Duration  Extension1             Ext.1 Name  \\\n",
       "0         1  Tue  3/14/2023 18:30  0:00:00         412                    NaN   \n",
       "1         2  Tue  3/14/2023 18:30  0:00:00         755                    NaN   \n",
       "2         3  Tue  3/14/2023 16:56  0:01:19         122      Alangari Mohammed   \n",
       "3         4  Tue  3/14/2023 16:56  0:01:19         430     Aldawsari Mohammed   \n",
       "4         5  Tue  3/14/2023 16:50  0:00:00         310             ali faiqah   \n",
       "...     ...  ...              ...      ...         ...                    ...   \n",
       "9995   9996  Sun  2/26/2023 11:21  0:00:00         118           Alwail Fahad   \n",
       "9996   9997  Sun  2/26/2023 11:20  0:00:31         428  Bin Sulaytin Abdullah   \n",
       "9997   9998  Sun  2/26/2023 11:20  0:00:31         415    alkhunayfir meshari   \n",
       "9998   9999  Sun  2/26/2023 11:17  0:01:10         407   binsheewen abdulaziz   \n",
       "9999  10000  Sun  2/26/2023 11:17  0:01:10         408      Alquraishi Musaad   \n",
       "\n",
       "                            Ext.1 Dep.  Extension2             Ext.2 Name  \\\n",
       "0                                  NaN         755                    NaN   \n",
       "1                                  NaN         412                    NaN   \n",
       "2             CyberSecurity Department         430     Aldawsari Mohammed   \n",
       "3               Information Technology         122      Alangari Mohammed   \n",
       "4           Electro-Optics Systems Lab         105              shah syed   \n",
       "...                                ...         ...                    ...   \n",
       "9995    Documents and Archiving Center         400        Alyahya Ibrahim   \n",
       "9996            Information Technology         415    alkhunayfir meshari   \n",
       "9997            Information Technology         428  Bin Sulaytin Abdullah   \n",
       "9998  Facilities Management Department         408      Alquraishi Musaad   \n",
       "9999              Financial Accounting         407   binsheewen abdulaziz   \n",
       "\n",
       "                            Ext.2 Dep.  Type   Status Ring Time  \n",
       "0                                  NaN  Inc.  Unansw.    0 sec.  \n",
       "1                                  NaN   Out  Unansw.    0 sec.  \n",
       "2               Information Technology  Inc.    Answ.    5 sec.  \n",
       "3             CyberSecurity Department   Out    Answ.    5 sec.  \n",
       "4             Strategic Planning / VRO  Inc.  Unansw.   20 sec.  \n",
       "...                                ...   ...      ...       ...  \n",
       "9995                    FSS Management   Out  Unansw.   30 sec.  \n",
       "9996            Information Technology  Inc.    Answ.    4 sec.  \n",
       "9997            Information Technology   Out    Answ.    4 sec.  \n",
       "9998              Financial Accounting  Inc.    Answ.   16 sec.  \n",
       "9999  Facilities Management Department   Out    Answ.   16 sec.  \n",
       "\n",
       "[10000 rows x 13 columns]"
      ]
     },
     "execution_count": 4,
     "metadata": {},
     "output_type": "execute_result"
    }
   ],
   "source": [
    "df=pd.DataFrame(file)\n",
    "df"
   ]
  },
  {
   "cell_type": "code",
   "execution_count": 5,
   "id": "d5109ede-6dc0-4b47-9646-1e1a97343953",
   "metadata": {},
   "outputs": [
    {
     "data": {
      "text/plain": [
       "(10000, 13)"
      ]
     },
     "execution_count": 5,
     "metadata": {},
     "output_type": "execute_result"
    }
   ],
   "source": [
    "df.shape"
   ]
  },
  {
   "cell_type": "code",
   "execution_count": 6,
   "id": "17c41900-8c63-4ce8-80eb-df53fee8feb1",
   "metadata": {},
   "outputs": [
    {
     "name": "stdout",
     "output_type": "stream",
     "text": [
      "<class 'pandas.core.frame.DataFrame'>\n",
      "RangeIndex: 10000 entries, 0 to 9999\n",
      "Data columns (total 13 columns):\n",
      " #   Column      Non-Null Count  Dtype \n",
      "---  ------      --------------  ----- \n",
      " 0   Nr.         10000 non-null  int64 \n",
      " 1   Day         10000 non-null  object\n",
      " 2   Date        10000 non-null  object\n",
      " 3   Duration    10000 non-null  object\n",
      " 4   Extension1  10000 non-null  int64 \n",
      " 5   Ext.1 Name  9275 non-null   object\n",
      " 6   Ext.1 Dep.  9250 non-null   object\n",
      " 7   Extension2  10000 non-null  int64 \n",
      " 8   Ext.2 Name  9275 non-null   object\n",
      " 9   Ext.2 Dep.  9250 non-null   object\n",
      " 10  Type        10000 non-null  object\n",
      " 11  Status      10000 non-null  object\n",
      " 12  Ring Time   10000 non-null  object\n",
      "dtypes: int64(3), object(10)\n",
      "memory usage: 1015.8+ KB\n"
     ]
    }
   ],
   "source": [
    "df.info()"
   ]
  },
  {
   "cell_type": "code",
   "execution_count": 7,
   "id": "dfc789a4-ad8e-41a6-90ae-a527fce8e7f2",
   "metadata": {},
   "outputs": [
    {
     "data": {
      "text/html": [
       "<div>\n",
       "<style scoped>\n",
       "    .dataframe tbody tr th:only-of-type {\n",
       "        vertical-align: middle;\n",
       "    }\n",
       "\n",
       "    .dataframe tbody tr th {\n",
       "        vertical-align: top;\n",
       "    }\n",
       "\n",
       "    .dataframe thead th {\n",
       "        text-align: right;\n",
       "    }\n",
       "</style>\n",
       "<table border=\"1\" class=\"dataframe\">\n",
       "  <thead>\n",
       "    <tr style=\"text-align: right;\">\n",
       "      <th></th>\n",
       "      <th>Nr.</th>\n",
       "      <th>Extension1</th>\n",
       "      <th>Extension2</th>\n",
       "    </tr>\n",
       "  </thead>\n",
       "  <tbody>\n",
       "    <tr>\n",
       "      <th>count</th>\n",
       "      <td>10000.00000</td>\n",
       "      <td>10000.00000</td>\n",
       "      <td>10000.00000</td>\n",
       "    </tr>\n",
       "    <tr>\n",
       "      <th>mean</th>\n",
       "      <td>5000.50000</td>\n",
       "      <td>349.12010</td>\n",
       "      <td>349.12010</td>\n",
       "    </tr>\n",
       "    <tr>\n",
       "      <th>std</th>\n",
       "      <td>2886.89568</td>\n",
       "      <td>260.46436</td>\n",
       "      <td>260.46436</td>\n",
       "    </tr>\n",
       "    <tr>\n",
       "      <th>min</th>\n",
       "      <td>1.00000</td>\n",
       "      <td>102.00000</td>\n",
       "      <td>102.00000</td>\n",
       "    </tr>\n",
       "    <tr>\n",
       "      <th>25%</th>\n",
       "      <td>2500.75000</td>\n",
       "      <td>218.00000</td>\n",
       "      <td>218.00000</td>\n",
       "    </tr>\n",
       "    <tr>\n",
       "      <th>50%</th>\n",
       "      <td>5000.50000</td>\n",
       "      <td>411.00000</td>\n",
       "      <td>411.00000</td>\n",
       "    </tr>\n",
       "    <tr>\n",
       "      <th>75%</th>\n",
       "      <td>7500.25000</td>\n",
       "      <td>424.00000</td>\n",
       "      <td>424.00000</td>\n",
       "    </tr>\n",
       "    <tr>\n",
       "      <th>max</th>\n",
       "      <td>10000.00000</td>\n",
       "      <td>7600.00000</td>\n",
       "      <td>7600.00000</td>\n",
       "    </tr>\n",
       "  </tbody>\n",
       "</table>\n",
       "</div>"
      ],
      "text/plain": [
       "               Nr.   Extension1   Extension2\n",
       "count  10000.00000  10000.00000  10000.00000\n",
       "mean    5000.50000    349.12010    349.12010\n",
       "std     2886.89568    260.46436    260.46436\n",
       "min        1.00000    102.00000    102.00000\n",
       "25%     2500.75000    218.00000    218.00000\n",
       "50%     5000.50000    411.00000    411.00000\n",
       "75%     7500.25000    424.00000    424.00000\n",
       "max    10000.00000   7600.00000   7600.00000"
      ]
     },
     "execution_count": 7,
     "metadata": {},
     "output_type": "execute_result"
    }
   ],
   "source": [
    "df.describe()"
   ]
  },
  {
   "cell_type": "markdown",
   "id": "afe23d23-940d-4711-bdc8-b573afbeb4eb",
   "metadata": {},
   "source": [
    "#### 1. Inconsistent data handling"
   ]
  },
  {
   "cell_type": "code",
   "execution_count": 8,
   "id": "156488ea-248d-4d7e-88c0-d917318aa42d",
   "metadata": {},
   "outputs": [],
   "source": [
    "df['Date'] = pd.to_datetime(df['Date'],errors='coerce')"
   ]
  },
  {
   "cell_type": "code",
   "execution_count": 9,
   "id": "12b67247-6ba1-4d1f-bc96-77ba52b7f888",
   "metadata": {},
   "outputs": [
    {
     "name": "stdout",
     "output_type": "stream",
     "text": [
      "<class 'pandas.core.series.Series'>\n",
      "RangeIndex: 10000 entries, 0 to 9999\n",
      "Series name: Date\n",
      "Non-Null Count  Dtype         \n",
      "--------------  -----         \n",
      "10000 non-null  datetime64[ns]\n",
      "dtypes: datetime64[ns](1)\n",
      "memory usage: 78.2 KB\n"
     ]
    }
   ],
   "source": [
    "df[\"Date\"].info()"
   ]
  },
  {
   "cell_type": "code",
   "execution_count": 10,
   "id": "f6231e00-16ec-4ec0-814f-a30149b1d78b",
   "metadata": {},
   "outputs": [
    {
     "data": {
      "text/html": [
       "<div>\n",
       "<style scoped>\n",
       "    .dataframe tbody tr th:only-of-type {\n",
       "        vertical-align: middle;\n",
       "    }\n",
       "\n",
       "    .dataframe tbody tr th {\n",
       "        vertical-align: top;\n",
       "    }\n",
       "\n",
       "    .dataframe thead th {\n",
       "        text-align: right;\n",
       "    }\n",
       "</style>\n",
       "<table border=\"1\" class=\"dataframe\">\n",
       "  <thead>\n",
       "    <tr style=\"text-align: right;\">\n",
       "      <th></th>\n",
       "      <th>Nr.</th>\n",
       "      <th>Day</th>\n",
       "      <th>Date</th>\n",
       "      <th>Duration</th>\n",
       "      <th>Extension1</th>\n",
       "      <th>Ext.1 Name</th>\n",
       "      <th>Ext.1 Dep.</th>\n",
       "      <th>Extension2</th>\n",
       "      <th>Ext.2 Name</th>\n",
       "      <th>Ext.2 Dep.</th>\n",
       "      <th>Type</th>\n",
       "      <th>Status</th>\n",
       "      <th>Ring Time</th>\n",
       "    </tr>\n",
       "  </thead>\n",
       "  <tbody>\n",
       "    <tr>\n",
       "      <th>0</th>\n",
       "      <td>1</td>\n",
       "      <td>Tue</td>\n",
       "      <td>2023-03-14 18:30:00</td>\n",
       "      <td>0:00:00</td>\n",
       "      <td>412</td>\n",
       "      <td>NaN</td>\n",
       "      <td>NaN</td>\n",
       "      <td>755</td>\n",
       "      <td>NaN</td>\n",
       "      <td>NaN</td>\n",
       "      <td>Inc.</td>\n",
       "      <td>Unansw.</td>\n",
       "      <td>0 sec.</td>\n",
       "    </tr>\n",
       "  </tbody>\n",
       "</table>\n",
       "</div>"
      ],
      "text/plain": [
       "   Nr.  Day                Date Duration  Extension1 Ext.1 Name Ext.1 Dep.  \\\n",
       "0    1  Tue 2023-03-14 18:30:00  0:00:00         412        NaN        NaN   \n",
       "\n",
       "   Extension2 Ext.2 Name Ext.2 Dep.  Type   Status Ring Time  \n",
       "0         755        NaN        NaN  Inc.  Unansw.    0 sec.  "
      ]
     },
     "execution_count": 10,
     "metadata": {},
     "output_type": "execute_result"
    }
   ],
   "source": [
    "df.head(1)"
   ]
  },
  {
   "cell_type": "code",
   "execution_count": 11,
   "id": "e5764744-e427-4f42-b5c0-4df9b3d5ebca",
   "metadata": {},
   "outputs": [],
   "source": [
    "df['Duration'] = pd.to_timedelta(df['Duration'])"
   ]
  },
  {
   "cell_type": "code",
   "execution_count": 12,
   "id": "3a5f9b47-861a-4d59-b015-6aecd0b90fc9",
   "metadata": {},
   "outputs": [
    {
     "data": {
      "text/html": [
       "<div>\n",
       "<style scoped>\n",
       "    .dataframe tbody tr th:only-of-type {\n",
       "        vertical-align: middle;\n",
       "    }\n",
       "\n",
       "    .dataframe tbody tr th {\n",
       "        vertical-align: top;\n",
       "    }\n",
       "\n",
       "    .dataframe thead th {\n",
       "        text-align: right;\n",
       "    }\n",
       "</style>\n",
       "<table border=\"1\" class=\"dataframe\">\n",
       "  <thead>\n",
       "    <tr style=\"text-align: right;\">\n",
       "      <th></th>\n",
       "      <th>Nr.</th>\n",
       "      <th>Day</th>\n",
       "      <th>Date</th>\n",
       "      <th>Duration</th>\n",
       "      <th>Extension1</th>\n",
       "      <th>Ext.1 Name</th>\n",
       "      <th>Ext.1 Dep.</th>\n",
       "      <th>Extension2</th>\n",
       "      <th>Ext.2 Name</th>\n",
       "      <th>Ext.2 Dep.</th>\n",
       "      <th>Type</th>\n",
       "      <th>Status</th>\n",
       "      <th>Ring Time</th>\n",
       "    </tr>\n",
       "  </thead>\n",
       "  <tbody>\n",
       "    <tr>\n",
       "      <th>0</th>\n",
       "      <td>1</td>\n",
       "      <td>Tue</td>\n",
       "      <td>2023-03-14 18:30:00</td>\n",
       "      <td>0 days 00:00:00</td>\n",
       "      <td>412</td>\n",
       "      <td>NaN</td>\n",
       "      <td>NaN</td>\n",
       "      <td>755</td>\n",
       "      <td>NaN</td>\n",
       "      <td>NaN</td>\n",
       "      <td>Inc.</td>\n",
       "      <td>Unansw.</td>\n",
       "      <td>0 sec.</td>\n",
       "    </tr>\n",
       "    <tr>\n",
       "      <th>1</th>\n",
       "      <td>2</td>\n",
       "      <td>Tue</td>\n",
       "      <td>2023-03-14 18:30:00</td>\n",
       "      <td>0 days 00:00:00</td>\n",
       "      <td>755</td>\n",
       "      <td>NaN</td>\n",
       "      <td>NaN</td>\n",
       "      <td>412</td>\n",
       "      <td>NaN</td>\n",
       "      <td>NaN</td>\n",
       "      <td>Out</td>\n",
       "      <td>Unansw.</td>\n",
       "      <td>0 sec.</td>\n",
       "    </tr>\n",
       "    <tr>\n",
       "      <th>2</th>\n",
       "      <td>3</td>\n",
       "      <td>Tue</td>\n",
       "      <td>2023-03-14 16:56:00</td>\n",
       "      <td>0 days 00:01:19</td>\n",
       "      <td>122</td>\n",
       "      <td>Alangari Mohammed</td>\n",
       "      <td>CyberSecurity Department</td>\n",
       "      <td>430</td>\n",
       "      <td>Aldawsari Mohammed</td>\n",
       "      <td>Information Technology</td>\n",
       "      <td>Inc.</td>\n",
       "      <td>Answ.</td>\n",
       "      <td>5 sec.</td>\n",
       "    </tr>\n",
       "    <tr>\n",
       "      <th>3</th>\n",
       "      <td>4</td>\n",
       "      <td>Tue</td>\n",
       "      <td>2023-03-14 16:56:00</td>\n",
       "      <td>0 days 00:01:19</td>\n",
       "      <td>430</td>\n",
       "      <td>Aldawsari Mohammed</td>\n",
       "      <td>Information Technology</td>\n",
       "      <td>122</td>\n",
       "      <td>Alangari Mohammed</td>\n",
       "      <td>CyberSecurity Department</td>\n",
       "      <td>Out</td>\n",
       "      <td>Answ.</td>\n",
       "      <td>5 sec.</td>\n",
       "    </tr>\n",
       "    <tr>\n",
       "      <th>4</th>\n",
       "      <td>5</td>\n",
       "      <td>Tue</td>\n",
       "      <td>2023-03-14 16:50:00</td>\n",
       "      <td>0 days 00:00:00</td>\n",
       "      <td>310</td>\n",
       "      <td>ali faiqah</td>\n",
       "      <td>Electro-Optics Systems Lab</td>\n",
       "      <td>105</td>\n",
       "      <td>shah syed</td>\n",
       "      <td>Strategic Planning / VRO</td>\n",
       "      <td>Inc.</td>\n",
       "      <td>Unansw.</td>\n",
       "      <td>20 sec.</td>\n",
       "    </tr>\n",
       "  </tbody>\n",
       "</table>\n",
       "</div>"
      ],
      "text/plain": [
       "   Nr.  Day                Date        Duration  Extension1  \\\n",
       "0    1  Tue 2023-03-14 18:30:00 0 days 00:00:00         412   \n",
       "1    2  Tue 2023-03-14 18:30:00 0 days 00:00:00         755   \n",
       "2    3  Tue 2023-03-14 16:56:00 0 days 00:01:19         122   \n",
       "3    4  Tue 2023-03-14 16:56:00 0 days 00:01:19         430   \n",
       "4    5  Tue 2023-03-14 16:50:00 0 days 00:00:00         310   \n",
       "\n",
       "           Ext.1 Name                  Ext.1 Dep.  Extension2  \\\n",
       "0                 NaN                         NaN         755   \n",
       "1                 NaN                         NaN         412   \n",
       "2   Alangari Mohammed    CyberSecurity Department         430   \n",
       "3  Aldawsari Mohammed      Information Technology         122   \n",
       "4          ali faiqah  Electro-Optics Systems Lab         105   \n",
       "\n",
       "           Ext.2 Name                Ext.2 Dep.  Type   Status Ring Time  \n",
       "0                 NaN                       NaN  Inc.  Unansw.    0 sec.  \n",
       "1                 NaN                       NaN   Out  Unansw.    0 sec.  \n",
       "2  Aldawsari Mohammed    Information Technology  Inc.    Answ.    5 sec.  \n",
       "3   Alangari Mohammed  CyberSecurity Department   Out    Answ.    5 sec.  \n",
       "4           shah syed  Strategic Planning / VRO  Inc.  Unansw.   20 sec.  "
      ]
     },
     "execution_count": 12,
     "metadata": {},
     "output_type": "execute_result"
    }
   ],
   "source": [
    "df.head(5)"
   ]
  },
  {
   "cell_type": "code",
   "execution_count": 13,
   "id": "fcc9b1aa-535d-475b-b13c-a16ef28ddf3d",
   "metadata": {},
   "outputs": [
    {
     "name": "stdout",
     "output_type": "stream",
     "text": [
      "<class 'pandas.core.series.Series'>\n",
      "RangeIndex: 10000 entries, 0 to 9999\n",
      "Series name: Duration\n",
      "Non-Null Count  Dtype          \n",
      "--------------  -----          \n",
      "10000 non-null  timedelta64[ns]\n",
      "dtypes: timedelta64[ns](1)\n",
      "memory usage: 78.2 KB\n"
     ]
    }
   ],
   "source": [
    "df[\"Duration\"].info()"
   ]
  },
  {
   "cell_type": "code",
   "execution_count": 14,
   "id": "b51ac75f-73dc-4360-bc91-97358f69ac69",
   "metadata": {},
   "outputs": [],
   "source": [
    "df['Ring Time'] = df['Ring Time'].str.replace(\"sec.\", \"\")"
   ]
  },
  {
   "cell_type": "code",
   "execution_count": 15,
   "id": "232b269d-1454-413d-9060-36f35d3cd3cf",
   "metadata": {},
   "outputs": [
    {
     "data": {
      "text/plain": [
       "3       1118\n",
       "4       1020\n",
       "5        648\n",
       "6        582\n",
       "2        434\n",
       "        ... \n",
       "120        2\n",
       "86         2\n",
       "98         2\n",
       "627        2\n",
       "647        2\n",
       "Name: Ring Time, Length: 183, dtype: int64"
      ]
     },
     "execution_count": 15,
     "metadata": {},
     "output_type": "execute_result"
    }
   ],
   "source": [
    "df['Ring Time'].value_counts()"
   ]
  },
  {
   "cell_type": "code",
   "execution_count": 16,
   "id": "651856e8-1857-481f-a24f-aa48085cb600",
   "metadata": {},
   "outputs": [
    {
     "name": "stdout",
     "output_type": "stream",
     "text": [
      "<class 'pandas.core.series.Series'>\n",
      "RangeIndex: 10000 entries, 0 to 9999\n",
      "Series name: Ring Time\n",
      "Non-Null Count  Dtype \n",
      "--------------  ----- \n",
      "10000 non-null  object\n",
      "dtypes: object(1)\n",
      "memory usage: 78.2+ KB\n"
     ]
    }
   ],
   "source": [
    "df['Ring Time'].info()"
   ]
  },
  {
   "cell_type": "code",
   "execution_count": 17,
   "id": "c743a6b1-b884-4d6b-b9d5-610955197e5d",
   "metadata": {},
   "outputs": [],
   "source": [
    "df['Ring Time'] = pd.to_numeric(df['Ring Time'])"
   ]
  },
  {
   "cell_type": "code",
   "execution_count": 18,
   "id": "073d7765-69a0-40c6-bc5a-d1384ebdbe4a",
   "metadata": {},
   "outputs": [
    {
     "name": "stdout",
     "output_type": "stream",
     "text": [
      "<class 'pandas.core.series.Series'>\n",
      "RangeIndex: 10000 entries, 0 to 9999\n",
      "Series name: Ring Time\n",
      "Non-Null Count  Dtype\n",
      "--------------  -----\n",
      "10000 non-null  int64\n",
      "dtypes: int64(1)\n",
      "memory usage: 78.2 KB\n"
     ]
    }
   ],
   "source": [
    "df['Ring Time'].info()"
   ]
  },
  {
   "cell_type": "code",
   "execution_count": 19,
   "id": "1a741f00-a058-474e-994c-01c360a6a907",
   "metadata": {},
   "outputs": [],
   "source": [
    "df['Nr.'] = df['Nr.'].apply(str)"
   ]
  },
  {
   "cell_type": "code",
   "execution_count": 20,
   "id": "a4d77137-0f38-460b-83b3-7f1da7fe0ade",
   "metadata": {},
   "outputs": [
    {
     "name": "stdout",
     "output_type": "stream",
     "text": [
      "<class 'pandas.core.frame.DataFrame'>\n",
      "RangeIndex: 10000 entries, 0 to 9999\n",
      "Data columns (total 13 columns):\n",
      " #   Column      Non-Null Count  Dtype          \n",
      "---  ------      --------------  -----          \n",
      " 0   Nr.         10000 non-null  object         \n",
      " 1   Day         10000 non-null  object         \n",
      " 2   Date        10000 non-null  datetime64[ns] \n",
      " 3   Duration    10000 non-null  timedelta64[ns]\n",
      " 4   Extension1  10000 non-null  int64          \n",
      " 5   Ext.1 Name  9275 non-null   object         \n",
      " 6   Ext.1 Dep.  9250 non-null   object         \n",
      " 7   Extension2  10000 non-null  int64          \n",
      " 8   Ext.2 Name  9275 non-null   object         \n",
      " 9   Ext.2 Dep.  9250 non-null   object         \n",
      " 10  Type        10000 non-null  object         \n",
      " 11  Status      10000 non-null  object         \n",
      " 12  Ring Time   10000 non-null  int64          \n",
      "dtypes: datetime64[ns](1), int64(3), object(8), timedelta64[ns](1)\n",
      "memory usage: 1015.8+ KB\n"
     ]
    }
   ],
   "source": [
    "df.info()"
   ]
  },
  {
   "cell_type": "markdown",
   "id": "66b7e853-d36a-4847-bb58-86a6ae99fa03",
   "metadata": {},
   "source": [
    "#### 2. Rename columns and values and drop unnecessary columns"
   ]
  },
  {
   "cell_type": "code",
   "execution_count": 21,
   "id": "fdb29f34-9cf2-4745-ab18-b5416e7caf8c",
   "metadata": {},
   "outputs": [],
   "source": [
    "df = df.drop(['Extension1' ,'Extension2'], axis=1)"
   ]
  },
  {
   "cell_type": "code",
   "execution_count": 22,
   "id": "c8b0f31f-0135-486a-90cd-e67e8631c404",
   "metadata": {},
   "outputs": [],
   "source": [
    "df.rename(columns = {\"Nr.\":\"No\",\"Ext.1 Name\":\"Extension1_Name\",\"Ext.2 Name\":\"Extension2_Name\",\n",
    "                     \"Ext.1 Dep.\":\"Extension1_Department\",\"Ext.2 Dep.\":\"Extension2_Department\",\n",
    "                     \"Ring Time\":\"Ring_time_per_second\"},inplace=True)"
   ]
  },
  {
   "cell_type": "code",
   "execution_count": 23,
   "id": "9c71de3e-7e38-4984-bc5e-6c474282e0f6",
   "metadata": {},
   "outputs": [
    {
     "name": "stdout",
     "output_type": "stream",
     "text": [
      "<class 'pandas.core.frame.DataFrame'>\n",
      "RangeIndex: 10000 entries, 0 to 9999\n",
      "Data columns (total 11 columns):\n",
      " #   Column                 Non-Null Count  Dtype          \n",
      "---  ------                 --------------  -----          \n",
      " 0   No                     10000 non-null  object         \n",
      " 1   Day                    10000 non-null  object         \n",
      " 2   Date                   10000 non-null  datetime64[ns] \n",
      " 3   Duration               10000 non-null  timedelta64[ns]\n",
      " 4   Extension1_Name        9275 non-null   object         \n",
      " 5   Extension1_Department  9250 non-null   object         \n",
      " 6   Extension2_Name        9275 non-null   object         \n",
      " 7   Extension2_Department  9250 non-null   object         \n",
      " 8   Type                   10000 non-null  object         \n",
      " 9   Status                 10000 non-null  object         \n",
      " 10  Ring_time_per_second   10000 non-null  int64          \n",
      "dtypes: datetime64[ns](1), int64(1), object(8), timedelta64[ns](1)\n",
      "memory usage: 859.5+ KB\n"
     ]
    }
   ],
   "source": [
    "df.info()"
   ]
  },
  {
   "cell_type": "code",
   "execution_count": 24,
   "id": "cf0877eb-49fc-459c-bf32-6c792e017789",
   "metadata": {},
   "outputs": [
    {
     "data": {
      "text/plain": [
       "Income     5000\n",
       "Outcome    5000\n",
       "Name: Type, dtype: int64"
      ]
     },
     "execution_count": 24,
     "metadata": {},
     "output_type": "execute_result"
    }
   ],
   "source": [
    "df[\"Type\"]=df[\"Type\"].map({\"Inc.\" : \"Income\" , \"Out\" : \"Outcome\"})\n",
    "df[\"Type\"].value_counts()"
   ]
  },
  {
   "cell_type": "code",
   "execution_count": 25,
   "id": "9885b95c-978d-4f90-835a-f0a0bd9e2fe3",
   "metadata": {},
   "outputs": [
    {
     "data": {
      "text/plain": [
       "Answer     5456\n",
       "Unnswer    4544\n",
       "Name: Status, dtype: int64"
      ]
     },
     "execution_count": 25,
     "metadata": {},
     "output_type": "execute_result"
    }
   ],
   "source": [
    "df[\"Status\"]=df[\"Status\"].map({\"Answ.\" : \"Answer\" , \"Unansw.\" : \"Unnswer\"})\n",
    "df[\"Status\"].value_counts()"
   ]
  },
  {
   "cell_type": "code",
   "execution_count": 26,
   "id": "16211890-9935-4f18-832d-3b38a839b823",
   "metadata": {},
   "outputs": [],
   "source": [
    "df['Extension1_Name'] = df['Extension1_Name'].str.split(\" \").str[1]\n",
    "df['Extension2_Name'] = df['Extension2_Name'].str.split(\" \").str[1]"
   ]
  },
  {
   "cell_type": "code",
   "execution_count": 27,
   "id": "217e3a35-14f9-4674-8df4-fe769a8c2e58",
   "metadata": {},
   "outputs": [
    {
     "data": {
      "text/plain": [
       "Abdulelah      673\n",
       "Abdullah       399\n",
       "mohammed       344\n",
       "muhrah         324\n",
       "meshal         314\n",
       "              ... \n",
       "Sara             2\n",
       "Saleh            1\n",
       "suliman          1\n",
       "Muntasir         1\n",
       "Abdulfattah      1\n",
       "Name: Extension1_Name, Length: 104, dtype: int64"
      ]
     },
     "execution_count": 27,
     "metadata": {},
     "output_type": "execute_result"
    }
   ],
   "source": [
    "df[\"Extension1_Name\"].value_counts()"
   ]
  },
  {
   "cell_type": "code",
   "execution_count": 28,
   "id": "4c79c02a-8074-4505-ac00-a143d34cbd63",
   "metadata": {},
   "outputs": [
    {
     "data": {
      "text/plain": [
       "Abdulelah      673\n",
       "Abdullah       399\n",
       "mohammed       344\n",
       "muhrah         324\n",
       "meshal         314\n",
       "              ... \n",
       "Sara             2\n",
       "Saleh            1\n",
       "suliman          1\n",
       "Muntasir         1\n",
       "Abdulfattah      1\n",
       "Name: Extension2_Name, Length: 104, dtype: int64"
      ]
     },
     "execution_count": 28,
     "metadata": {},
     "output_type": "execute_result"
    }
   ],
   "source": [
    "df[\"Extension2_Name\"].value_counts()"
   ]
  },
  {
   "cell_type": "markdown",
   "id": "2343c5c8-cfe6-4d41-a135-2f23979732d6",
   "metadata": {},
   "source": [
    "#### 3. Outlier handling"
   ]
  },
  {
   "cell_type": "code",
   "execution_count": 29,
   "id": "bda369e4-87bf-41b4-98e0-de65742cae40",
   "metadata": {},
   "outputs": [
    {
     "data": {
      "text/plain": [
       "Ring_time_per_second    AxesSubplot(0.125,0.11;0.775x0.77)\n",
       "dtype: object"
      ]
     },
     "execution_count": 29,
     "metadata": {},
     "output_type": "execute_result"
    },
    {
     "data": {
      "image/png": "[encoded data removed]",
      "text/plain": [
       "<Figure size 1000x500 with 1 Axes>"
      ]
     },
     "metadata": {},
     "output_type": "display_data"
    }
   ],
   "source": [
    "#show the outlier\n",
    "df.plot(kind ='box', subplots=True,figsize=(10,5))"
   ]
  },
  {
   "cell_type": "code",
   "execution_count": 30,
   "id": "ececb400-5d97-478d-b0b9-fa63f1c47061",
   "metadata": {},
   "outputs": [],
   "source": [
    "Q1 = df.Ring_time_per_second.quantile(0.25)\n",
    "Q3 = df.Ring_time_per_second.quantile(0.75)\n",
    "IQR = Q3-Q1\n",
    "upper = Q3 + 1.5*IQR\n",
    "df.loc[df[\"Ring_time_per_second\"] > upper,\"Ring_time_per_second\"] = upper"
   ]
  },
  {
   "cell_type": "code",
   "execution_count": 31,
   "id": "9d00e5a1-48c8-4ad0-9325-91253ef87c41",
   "metadata": {},
   "outputs": [
    {
     "data": {
      "image/png": "[encoded data removed]",
      "text/plain": [
       "<Figure size 640x480 with 1 Axes>"
      ]
     },
     "metadata": {},
     "output_type": "display_data"
    }
   ],
   "source": [
    "sns.boxplot(x = df[\"Ring_time_per_second\"]);"
   ]
  },
  {
   "cell_type": "markdown",
   "id": "44df1ecb-66b9-460f-9df4-321db6bcb7df",
   "metadata": {},
   "source": [
    "#### 4. Missing value handling"
   ]
  },
  {
   "cell_type": "code",
   "execution_count": 32,
   "id": "dd7764d7-952b-4c38-8e40-65e5954b8e67",
   "metadata": {},
   "outputs": [
    {
     "data": {
      "text/plain": [
       "No                         0\n",
       "Day                        0\n",
       "Date                       0\n",
       "Duration                   0\n",
       "Extension1_Name          725\n",
       "Extension1_Department    750\n",
       "Extension2_Name          725\n",
       "Extension2_Department    750\n",
       "Type                       0\n",
       "Status                     0\n",
       "Ring_time_per_second       0\n",
       "dtype: int64"
      ]
     },
     "execution_count": 32,
     "metadata": {},
     "output_type": "execute_result"
    }
   ],
   "source": [
    "# check for null values \n",
    "df.isnull().sum()"
   ]
  },
  {
   "cell_type": "code",
   "execution_count": 33,
   "id": "484d7bdf-51d0-4f25-8028-bf9705f52f33",
   "metadata": {},
   "outputs": [],
   "source": [
    "# Filling missing values\n",
    "df['Extension1_Name'].fillna(df['Extension1_Name'].mode()[0], inplace=True)\n",
    "df['Extension2_Name'].fillna(df['Extension2_Name'].mode()[0], inplace=True)\n",
    "df['Extension1_Department'].fillna(df['Extension1_Department'].mode()[0], inplace=True)\n",
    "df['Extension2_Department'].fillna(df['Extension2_Department'].mode()[0], inplace=True)"
   ]
  },
  {
   "cell_type": "code",
   "execution_count": 34,
   "id": "3bf4c31b-f53e-46da-bdf5-fec6c17f636a",
   "metadata": {},
   "outputs": [
    {
     "data": {
      "text/plain": [
       "No                       0\n",
       "Day                      0\n",
       "Date                     0\n",
       "Duration                 0\n",
       "Extension1_Name          0\n",
       "Extension1_Department    0\n",
       "Extension2_Name          0\n",
       "Extension2_Department    0\n",
       "Type                     0\n",
       "Status                   0\n",
       "Ring_time_per_second     0\n",
       "dtype: int64"
      ]
     },
     "execution_count": 34,
     "metadata": {},
     "output_type": "execute_result"
    }
   ],
   "source": [
    "df.isnull().sum()"
   ]
  },
  {
   "cell_type": "markdown",
   "id": "3661ef2a-417b-44c4-a478-39b178a959d6",
   "metadata": {},
   "source": [
    "#### 5. Duplicate data handling"
   ]
  },
  {
   "cell_type": "code",
   "execution_count": 35,
   "id": "66dd1c07-6477-49be-aa59-102f57e4aaba",
   "metadata": {},
   "outputs": [
    {
     "data": {
      "text/plain": [
       "0"
      ]
     },
     "execution_count": 35,
     "metadata": {},
     "output_type": "execute_result"
    }
   ],
   "source": [
    "# Check for duplicate value\n",
    "sum(df.duplicated())"
   ]
  },
  {
   "cell_type": "code",
   "execution_count": 36,
   "id": "d31caba2-f88e-4cea-bc01-eb63a631451f",
   "metadata": {},
   "outputs": [
    {
     "data": {
      "text/plain": [
       "(10000, 11)"
      ]
     },
     "execution_count": 36,
     "metadata": {},
     "output_type": "execute_result"
    }
   ],
   "source": [
    "df.shape"
   ]
  },
  {
   "cell_type": "code",
   "execution_count": null,
   "id": "087a1530-6784-460b-aeee-34196c72ddfc",
   "metadata": {},
   "outputs": [],
   "source": []
  }
 ],
 "metadata": {
  "kernelspec": {
   "display_name": "Python 3 (ipykernel)",
   "language": "python",
   "name": "python3"
  },
  "language_info": {
   "codemirror_mode": {
    "name": "ipython",
    "version": 3
   },
   "file_extension": ".py",
   "mimetype": "text/x-python",
   "name": "python",
   "nbconvert_exporter": "python",
   "pygments_lexer": "ipython3",
   "version": "3.9.13"
  }
 },
 "nbformat": 4,
 "nbformat_minor": 5
}
